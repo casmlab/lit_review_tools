{
 "cells": [
  {
   "cell_type": "code",
   "execution_count": 1,
   "id": "b5a47584",
   "metadata": {},
   "outputs": [],
   "source": [
    "from pymed import PubMed\n",
    "import pandas as pd\n"
   ]
  },
  {
   "cell_type": "code",
   "execution_count": 2,
   "id": "8782e50f",
   "metadata": {},
   "outputs": [
    {
     "name": "stdout",
     "output_type": "stream",
     "text": [
      "Provide your email.libbyh@umich.edu\n"
     ]
    }
   ],
   "source": [
    "email_address = input('Provide your email.')"
   ]
  },
  {
   "cell_type": "code",
   "execution_count": 3,
   "id": "76163bb0",
   "metadata": {},
   "outputs": [
    {
     "name": "stdout",
     "output_type": "stream",
     "text": [
      "Provide your search terms.\"social media\" AND \"vaccine uptake\"\n"
     ]
    }
   ],
   "source": [
    "search_terms = input('Provide your search terms.')"
   ]
  },
  {
   "cell_type": "code",
   "execution_count": 4,
   "id": "9817150f",
   "metadata": {},
   "outputs": [],
   "source": [
    "pubmed = PubMed(tool=\"PubMedSearcher\", email=email_address)\n",
    "\n",
    "articleList = []\n",
    "articleInfo = []"
   ]
  },
  {
   "cell_type": "code",
   "execution_count": 5,
   "id": "81c1fb5a",
   "metadata": {},
   "outputs": [],
   "source": [
    "results = pubmed.query(search_terms, max_results=5000)\n"
   ]
  },
  {
   "cell_type": "code",
   "execution_count": 6,
   "id": "e41ee402",
   "metadata": {},
   "outputs": [],
   "source": [
    "for article in results:\n",
    "    articleDict = article.toDict()\n",
    "    articleList.append(articleDict)\n"
   ]
  },
  {
   "cell_type": "code",
   "execution_count": 7,
   "id": "f8d41683",
   "metadata": {},
   "outputs": [],
   "source": [
    "# Generate list of dict records which will hold all article details that could be fetch from PUBMED API\n",
    "for article in articleList:\n",
    "#Sometimes article['pubmed_id'] contains list separated with comma - take first pubmedId in that list - thats article pubmedId\n",
    "    pubmedId = article['pubmed_id'].partition('\\n')[0]\n",
    "    # Append article info to dictionary \n",
    "    try:\n",
    "        articleInfo.append(\n",
    "                            {u'pubmed_id':pubmedId,\n",
    "                            u'title':article['title'],\n",
    "                            u'journal':article['journal'],\n",
    "                            u'abstract':article['abstract'],\n",
    "                            u'doi':article['doi'],\n",
    "                            u'publication_date':article['publication_date']}\n",
    "                          )\n",
    "    except KeyError:\n",
    "        continue"
   ]
  },
  {
   "cell_type": "code",
   "execution_count": 8,
   "id": "ac6f5bed",
   "metadata": {},
   "outputs": [
    {
     "name": "stdout",
     "output_type": "stream",
     "text": [
      "  pubmed_id                                              title  \\\n",
      "0  37638260  Knowledge, Attitudes, and Perceptions Towards ...   \n",
      "1  37638118  Correlates of COVID-19 Vaccine Uptake in Black...   \n",
      "2  37631934  A Qualitative Study on Barriers to COVID-19 Va...   \n",
      "3  37631906  Investigating the Psychological, Social, Cultu...   \n",
      "4  37587926  Social divisions and risk perception drive div...   \n",
      "\n",
      "                       journal  \\\n",
      "0                       Cureus   \n",
      "1                Health equity   \n",
      "2                     Vaccines   \n",
      "3                     Vaccines   \n",
      "4  Evolutionary human sciences   \n",
      "\n",
      "                                            abstract  \\\n",
      "0  Human papillomavirus (HPV) is linked to cervic...   \n",
      "1  Efforts to address vaccine uptake and access a...   \n",
      "2  The use of vaccines is one of the key tools in...   \n",
      "3  Media exposure to health communication content...   \n",
      "4  During infectious disease outbreaks, individua...   \n",
      "\n",
      "                                                 doi publication_date  \n",
      "0                               10.7759/cureus.44157       2023-08-28  \n",
      "1  10.1089/heq.2022.0215\\n10.1177/152483992211337...       2023-08-28  \n",
      "2  10.3390/vaccines11081366\\n10.1038/s41591-022-0...       2023-08-26  \n",
      "3  10.3390/vaccines11081338\\n10.3390/ijerph170723...       2023-08-26  \n",
      "4  10.1017/ehs.2023.2\\n10.1126/science.abi9069\\n1...       2023-08-17  \n"
     ]
    }
   ],
   "source": [
    "# Generate Pandas DataFrame from list of dictionaries\n",
    "articlesPD = pd.DataFrame.from_dict(articleInfo)\n",
    "export_csv = articlesPD.to_csv('pubmed_results.csv', index = None, header=True) \n",
    "\n",
    "#Print first 5 rows of dataframe\n",
    "print(articlesPD.head(5))"
   ]
  },
  {
   "cell_type": "code",
   "execution_count": null,
   "id": "3ff73605",
   "metadata": {},
   "outputs": [],
   "source": []
  }
 ],
 "metadata": {
  "kernelspec": {
   "display_name": "Python 3 (ipykernel)",
   "language": "python",
   "name": "python3"
  },
  "language_info": {
   "codemirror_mode": {
    "name": "ipython",
    "version": 3
   },
   "file_extension": ".py",
   "mimetype": "text/x-python",
   "name": "python",
   "nbconvert_exporter": "python",
   "pygments_lexer": "ipython3",
   "version": "3.11.2"
  }
 },
 "nbformat": 4,
 "nbformat_minor": 5
}
